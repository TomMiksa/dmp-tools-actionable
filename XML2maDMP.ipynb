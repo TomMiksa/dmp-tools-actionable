{
 "cells": [
  {
   "cell_type": "markdown",
   "metadata": {},
   "source": [
    "# Create maDMP from RDMO XML Export\n",
    "\n",
    "This Jupyter Notebook shows how to create an maDMP according to\n",
    "[RDA DMP Common Standard](https://github.com/RDA-DMP-Common/RDA-DMP-Common-Standard)\n",
    "out of the XML export of a project in RDMO."
   ]
  },
  {
   "cell_type": "code",
   "execution_count": 6,
   "metadata": {},
   "outputs": [],
   "source": [
    "# import required libraries\n",
    "import json\n",
    "import xml.etree.ElementTree as ET"
   ]
  },
  {
   "cell_type": "code",
   "execution_count": 2,
   "metadata": {},
   "outputs": [],
   "source": [
    "# Path to the source XML file\n",
    "SOURCE_XML = \"test-project.xml\"\n",
    "# Path to the target JSON file\n",
    "TARGET_JSON = \"test-project.json\""
   ]
  },
  {
   "cell_type": "markdown",
   "metadata": {},
   "source": [
    "### Read in XML file"
   ]
  },
  {
   "cell_type": "code",
   "execution_count": 3,
   "metadata": {},
   "outputs": [],
   "source": [
    "tree = ET.parse(SOURCE_XML)\n",
    "root = tree.getroot()"
   ]
  },
  {
   "cell_type": "code",
   "execution_count": 8,
   "metadata": {},
   "outputs": [],
   "source": [
    "# We now transform the XML file into a Python\n",
    "# structure which we can then output as JSON\n",
    "madmp = {}\n",
    "# general data\n",
    "madmp['dmp'] = {}\n",
    "madmp['dmp']['title'] = root.find('title').text\n",
    "madmp['dmp']['description'] = root.find('description').text\n",
    "madmp['dmp']['created'] = root.find('created').text\n",
    "madmp['dmp']['modified'] = root.find('updated').text\n",
    "madmp['dmp']['project'] = []\n",
    "madmp['dmp']['contact']"
   ]
  },
  {
   "cell_type": "code",
   "execution_count": 9,
   "metadata": {},
   "outputs": [
    {
     "name": "stdout",
     "output_type": "stream",
     "text": [
      "{\"dmp\": {\"title\": \"Second test project\", \"description\": null, \"created\": \"2019-06-29T09:30:43.529158+02:00\", \"modified\": \"2019-06-29T09:30:43.529172+02:00\"}}\n"
     ]
    }
   ],
   "source": [
    "print(json.dumps(madmp))"
   ]
  },
  {
   "cell_type": "code",
   "execution_count": null,
   "metadata": {},
   "outputs": [],
   "source": []
  }
 ],
 "metadata": {
  "kernelspec": {
   "display_name": "Python 3",
   "language": "python",
   "name": "python3"
  },
  "language_info": {
   "codemirror_mode": {
    "name": "ipython",
    "version": 3
   },
   "file_extension": ".py",
   "mimetype": "text/x-python",
   "name": "python",
   "nbconvert_exporter": "python",
   "pygments_lexer": "ipython3",
   "version": "3.7.3"
  }
 },
 "nbformat": 4,
 "nbformat_minor": 2
}
