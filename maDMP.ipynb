{
 "cells": [
  {
   "cell_type": "markdown",
   "metadata": {},
   "source": [
    "# Create maDMP from RDMO Project\n",
    "\n",
    "This notebook allows you to create an maDMP version of your DMP out from an RDMO Project."
   ]
  },
  {
   "cell_type": "code",
   "execution_count": null,
   "metadata": {},
   "outputs": [],
   "source": [
    "import ipywidgets as widgets\n",
    "from rdmo_client import Client"
   ]
  },
  {
   "cell_type": "code",
   "execution_count": null,
   "metadata": {},
   "outputs": [],
   "source": [
    "# Items we need: URL of system, username & password\n",
    "w_url = widgets.Text(\n",
    "    placeholder='https://rdmo.helmuth.at',\n",
    "    description='RDMO URL:',\n",
    "    disabled=False\n",
    ")\n",
    "w_login = widgets.Text(\n",
    "    placeholder='anna',\n",
    "    description='Login:',\n",
    "    disabled=False\n",
    ")\n",
    "w_password = widgets.Password(\n",
    "    placeholder='secret-password',\n",
    "    description='Password:',\n",
    "    disabled=False\n",
    ")\n",
    "w_instructions = widgets.HTML(\n",
    "    value='<h3>Please specify the RDMO server URL and credentials</h3>'\n",
    ")\n",
    "display(w_instructions)\n",
    "display(w_url)\n",
    "display(w_login)\n",
    "display(w_password)"
   ]
  },
  {
   "cell_type": "code",
   "execution_count": null,
   "metadata": {},
   "outputs": [],
   "source": [
    "# connect to the server\n",
    "client = Client(w_url.value, auth=(w_login.value, w_password.value))"
   ]
  },
  {
   "cell_type": "code",
   "execution_count": null,
   "metadata": {},
   "outputs": [],
   "source": [
    "# We present the user with a list of projects to select from\n",
    "projects = client.list_projects()\n",
    "drop_values = {}\n",
    "for p in projects:\n",
    "    p_display = \"%s (%d)\" % (p['title'], p['id'])\n",
    "    p_id = p['id']\n",
    "    drop_values[p_display] = p_id\n",
    "w_project = widgets.Dropdown(\n",
    "    options=drop_values,\n",
    "    description='Project:',\n",
    "    disabled=False\n",
    ")\n",
    "w_instructions = widgets.HTML(\n",
    "    value='<h3>Please select the project to export</h3>'\n",
    ")\n",
    "display(w_instructions)\n",
    "display(w_project)"
   ]
  },
  {
   "cell_type": "code",
   "execution_count": null,
   "metadata": {},
   "outputs": [],
   "source": [
    "client.list_project_values(w_project.value)"
   ]
  },
  {
   "cell_type": "code",
   "execution_count": null,
   "metadata": {},
   "outputs": [],
   "source": [
    "client.list_values(w_project.value, attribute=4)"
   ]
  },
  {
   "cell_type": "code",
   "execution_count": null,
   "metadata": {},
   "outputs": [],
   "source": []
  }
 ],
 "metadata": {
  "kernelspec": {
   "display_name": "Python 3",
   "language": "python",
   "name": "python3"
  },
  "language_info": {
   "codemirror_mode": {
    "name": "ipython",
    "version": 3
   },
   "file_extension": ".py",
   "mimetype": "text/x-python",
   "name": "python",
   "nbconvert_exporter": "python",
   "pygments_lexer": "ipython3",
   "version": "3.7.3"
  }
 },
 "nbformat": 4,
 "nbformat_minor": 2
}
